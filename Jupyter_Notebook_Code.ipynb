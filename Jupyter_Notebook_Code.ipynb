{
 "cells": [
  {
   "cell_type": "code",
   "execution_count": 1,
   "metadata": {
    "execution": {
     "iopub.execute_input": "2021-03-14T19:52:37.737837Z",
     "iopub.status.busy": "2021-03-14T19:52:37.724081Z",
     "iopub.status.idle": "2021-03-14T19:52:49.277459Z",
     "shell.execute_reply": "2021-03-14T19:52:49.276559Z"
    },
    "papermill": {
     "duration": 11.586443,
     "end_time": "2021-03-14T19:52:49.277789",
     "exception": false,
     "start_time": "2021-03-14T19:52:37.691346",
     "status": "completed"
    },
    "tags": []
   },
   "outputs": [
    {
     "name": "stdout",
     "output_type": "stream",
     "text": [
      "Collecting pycountry-convert\r\n",
      "  Downloading pycountry_convert-0.7.2-py3-none-any.whl (13 kB)\r\n",
      "Collecting pytest-mock>=1.6.3\r\n",
      "  Downloading pytest_mock-3.5.1-py3-none-any.whl (12 kB)\r\n",
      "Collecting pprintpp>=0.3.0\r\n",
      "  Downloading pprintpp-0.4.0-py2.py3-none-any.whl (16 kB)\r\n",
      "Requirement already satisfied: wheel>=0.30.0 in /opt/conda/lib/python3.7/site-packages (from pycountry-convert) (0.36.2)\r\n",
      "Requirement already satisfied: pytest>=3.4.0 in /opt/conda/lib/python3.7/site-packages (from pycountry-convert) (6.2.2)\r\n",
      "Requirement already satisfied: pycountry>=16.11.27.1 in /opt/conda/lib/python3.7/site-packages (from pycountry-convert) (20.7.3)\r\n",
      "Collecting pytest-cov>=2.5.1\r\n",
      "  Downloading pytest_cov-2.11.1-py2.py3-none-any.whl (20 kB)\r\n",
      "Collecting repoze.lru>=0.7\r\n",
      "  Downloading repoze.lru-0.7-py3-none-any.whl (10 kB)\r\n",
      "Requirement already satisfied: packaging in /opt/conda/lib/python3.7/site-packages (from pytest>=3.4.0->pycountry-convert) (20.8)\r\n",
      "Requirement already satisfied: toml in /opt/conda/lib/python3.7/site-packages (from pytest>=3.4.0->pycountry-convert) (0.10.2)\r\n",
      "Requirement already satisfied: pluggy<1.0.0a1,>=0.12 in /opt/conda/lib/python3.7/site-packages (from pytest>=3.4.0->pycountry-convert) (0.13.1)\r\n",
      "Requirement already satisfied: py>=1.8.2 in /opt/conda/lib/python3.7/site-packages (from pytest>=3.4.0->pycountry-convert) (1.10.0)\r\n",
      "Requirement already satisfied: attrs>=19.2.0 in /opt/conda/lib/python3.7/site-packages (from pytest>=3.4.0->pycountry-convert) (20.3.0)\r\n",
      "Requirement already satisfied: iniconfig in /opt/conda/lib/python3.7/site-packages (from pytest>=3.4.0->pycountry-convert) (1.1.1)\r\n",
      "Requirement already satisfied: importlib-metadata>=0.12 in /opt/conda/lib/python3.7/site-packages (from pytest>=3.4.0->pycountry-convert) (3.3.0)\r\n",
      "Requirement already satisfied: typing-extensions>=3.6.4 in /opt/conda/lib/python3.7/site-packages (from importlib-metadata>=0.12->pytest>=3.4.0->pycountry-convert) (3.7.4.3)\r\n",
      "Requirement already satisfied: zipp>=0.5 in /opt/conda/lib/python3.7/site-packages (from importlib-metadata>=0.12->pytest>=3.4.0->pycountry-convert) (3.4.0)\r\n",
      "Collecting coverage>=5.2.1\r\n",
      "  Downloading coverage-5.5-cp37-cp37m-manylinux2010_x86_64.whl (242 kB)\r\n",
      "\u001b[K     |████████████████████████████████| 242 kB 1.2 MB/s \r\n",
      "\u001b[?25hRequirement already satisfied: pyparsing>=2.0.2 in /opt/conda/lib/python3.7/site-packages (from packaging->pytest>=3.4.0->pycountry-convert) (2.4.7)\r\n",
      "Installing collected packages: coverage, repoze.lru, pytest-mock, pytest-cov, pprintpp, pycountry-convert\r\n",
      "Successfully installed coverage-5.5 pprintpp-0.4.0 pycountry-convert-0.7.2 pytest-cov-2.11.1 pytest-mock-3.5.1 repoze.lru-0.7\r\n"
     ]
    }
   ],
   "source": [
    "!pip install pycountry-convert"
   ]
  },
  {
   "cell_type": "code",
   "execution_count": 2,
   "metadata": {
    "_cell_guid": "b1076dfc-b9ad-4769-8c92-a6c4dae69d19",
    "_uuid": "8f2839f25d086af736a60e9eeb907d3b93b6e0e5",
    "execution": {
     "iopub.execute_input": "2021-03-14T19:52:49.341515Z",
     "iopub.status.busy": "2021-03-14T19:52:49.340811Z",
     "iopub.status.idle": "2021-03-14T19:52:49.349241Z",
     "shell.execute_reply": "2021-03-14T19:52:49.348445Z"
    },
    "papermill": {
     "duration": 0.042577,
     "end_time": "2021-03-14T19:52:49.349406",
     "exception": false,
     "start_time": "2021-03-14T19:52:49.306829",
     "status": "completed"
    },
    "tags": []
   },
   "outputs": [],
   "source": [
    "from pycountry_convert import country_alpha2_to_continent_code, country_name_to_country_alpha2\n",
    "import pandas as pd\n",
    "import numpy as np"
   ]
  },
  {
   "cell_type": "code",
   "execution_count": 3,
   "metadata": {
    "execution": {
     "iopub.execute_input": "2021-03-14T19:52:49.413119Z",
     "iopub.status.busy": "2021-03-14T19:52:49.412323Z",
     "iopub.status.idle": "2021-03-14T19:52:55.310881Z",
     "shell.execute_reply": "2021-03-14T19:52:55.310106Z"
    },
    "papermill": {
     "duration": 5.933652,
     "end_time": "2021-03-14T19:52:55.311074",
     "exception": false,
     "start_time": "2021-03-14T19:52:49.377422",
     "status": "completed"
    },
    "tags": []
   },
   "outputs": [],
   "source": [
    "df = pd.read_csv(\"../input/stack-overflow-developer-survey-results-2019/survey_results_public.csv\")"
   ]
  },
  {
   "cell_type": "code",
   "execution_count": 4,
   "metadata": {
    "execution": {
     "iopub.execute_input": "2021-03-14T19:52:55.385078Z",
     "iopub.status.busy": "2021-03-14T19:52:55.384345Z",
     "iopub.status.idle": "2021-03-14T19:52:56.101117Z",
     "shell.execute_reply": "2021-03-14T19:52:56.100498Z"
    },
    "papermill": {
     "duration": 0.760285,
     "end_time": "2021-03-14T19:52:56.101283",
     "exception": false,
     "start_time": "2021-03-14T19:52:55.340998",
     "status": "completed"
    },
    "tags": []
   },
   "outputs": [
    {
     "name": "stdout",
     "output_type": "stream",
     "text": [
      "<class 'pandas.core.frame.DataFrame'>\n",
      "RangeIndex: 88883 entries, 0 to 88882\n",
      "Data columns (total 85 columns):\n",
      " #   Column                  Non-Null Count  Dtype  \n",
      "---  ------                  --------------  -----  \n",
      " 0   Respondent              88883 non-null  int64  \n",
      " 1   MainBranch              88331 non-null  object \n",
      " 2   Hobbyist                88883 non-null  object \n",
      " 3   OpenSourcer             88883 non-null  object \n",
      " 4   OpenSource              86842 non-null  object \n",
      " 5   Employment              87181 non-null  object \n",
      " 6   Country                 88751 non-null  object \n",
      " 7   Student                 87014 non-null  object \n",
      " 8   EdLevel                 86390 non-null  object \n",
      " 9   UndergradMajor          75614 non-null  object \n",
      " 10  EduOther                84260 non-null  object \n",
      " 11  OrgSize                 71791 non-null  object \n",
      " 12  DevType                 81335 non-null  object \n",
      " 13  YearsCode               87938 non-null  object \n",
      " 14  Age1stCode              87634 non-null  object \n",
      " 15  YearsCodePro            74331 non-null  object \n",
      " 16  CareerSat               72847 non-null  object \n",
      " 17  JobSat                  70988 non-null  object \n",
      " 18  MgrIdiot                61159 non-null  object \n",
      " 19  MgrMoney                61157 non-null  object \n",
      " 20  MgrWant                 61232 non-null  object \n",
      " 21  JobSeek                 80555 non-null  object \n",
      " 22  LastHireDate            79854 non-null  object \n",
      " 23  LastInt                 67155 non-null  object \n",
      " 24  FizzBuzz                71344 non-null  object \n",
      " 25  JobFactors              79371 non-null  object \n",
      " 26  ResumeUpdate            77877 non-null  object \n",
      " 27  CurrencySymbol          71392 non-null  object \n",
      " 28  CurrencyDesc            71392 non-null  object \n",
      " 29  CompTotal               55945 non-null  float64\n",
      " 30  CompFreq                63268 non-null  object \n",
      " 31  ConvertedComp           55823 non-null  float64\n",
      " 32  WorkWeekHrs             64503 non-null  float64\n",
      " 33  WorkPlan                68914 non-null  object \n",
      " 34  WorkChallenge           68141 non-null  object \n",
      " 35  WorkRemote              70284 non-null  object \n",
      " 36  WorkLoc                 70055 non-null  object \n",
      " 37  ImpSyn                  71779 non-null  object \n",
      " 38  CodeRev                 70390 non-null  object \n",
      " 39  CodeRevHrs              49790 non-null  float64\n",
      " 40  UnitTests               62668 non-null  object \n",
      " 41  PurchaseHow             61108 non-null  object \n",
      " 42  PurchaseWhat            62029 non-null  object \n",
      " 43  LanguageWorkedWith      87569 non-null  object \n",
      " 44  LanguageDesireNextYear  84088 non-null  object \n",
      " 45  DatabaseWorkedWith      76026 non-null  object \n",
      " 46  DatabaseDesireNextYear  69147 non-null  object \n",
      " 47  PlatformWorkedWith      80714 non-null  object \n",
      " 48  PlatformDesireNextYear  77443 non-null  object \n",
      " 49  WebFrameWorkedWith      65022 non-null  object \n",
      " 50  WebFrameDesireNextYear  62944 non-null  object \n",
      " 51  MiscTechWorkedWith      59586 non-null  object \n",
      " 52  MiscTechDesireNextYear  64511 non-null  object \n",
      " 53  DevEnviron              87317 non-null  object \n",
      " 54  OpSys                   87851 non-null  object \n",
      " 55  Containers              85366 non-null  object \n",
      " 56  BlockchainOrg           48175 non-null  object \n",
      " 57  BlockchainIs            60165 non-null  object \n",
      " 58  BetterLife              86269 non-null  object \n",
      " 59  ITperson                87141 non-null  object \n",
      " 60  OffOn                   86663 non-null  object \n",
      " 61  SocialMedia             84437 non-null  object \n",
      " 62  Extraversion            87305 non-null  object \n",
      " 63  ScreenName              80486 non-null  object \n",
      " 64  SOVisit1st              83877 non-null  object \n",
      " 65  SOVisitFreq             88263 non-null  object \n",
      " 66  SOVisitTo               88086 non-null  object \n",
      " 67  SOFindAnswer            87816 non-null  object \n",
      " 68  SOTimeSaved             86344 non-null  object \n",
      " 69  SOHowMuchTime           68378 non-null  object \n",
      " 70  SOAccount               87828 non-null  object \n",
      " 71  SOPartFreq              74692 non-null  object \n",
      " 72  SOJobs                  88066 non-null  object \n",
      " 73  EntTeams                87841 non-null  object \n",
      " 74  SOComm                  88131 non-null  object \n",
      " 75  WelcomeChange           85855 non-null  object \n",
      " 76  SONewContent            69560 non-null  object \n",
      " 77  Age                     79210 non-null  float64\n",
      " 78  Gender                  85406 non-null  object \n",
      " 79  Trans                   83607 non-null  object \n",
      " 80  Sexuality               76147 non-null  object \n",
      " 81  Ethnicity               76668 non-null  object \n",
      " 82  Dependents              83059 non-null  object \n",
      " 83  SurveyLength            86984 non-null  object \n",
      " 84  SurveyEase              87081 non-null  object \n",
      "dtypes: float64(5), int64(1), object(79)\n",
      "memory usage: 57.6+ MB\n"
     ]
    }
   ],
   "source": [
    "df.info()"
   ]
  },
  {
   "cell_type": "markdown",
   "metadata": {
    "papermill": {
     "duration": 0.028503,
     "end_time": "2021-03-14T19:52:56.158946",
     "exception": false,
     "start_time": "2021-03-14T19:52:56.130443",
     "status": "completed"
    },
    "tags": []
   },
   "source": [
    "## Q1.What is the average age of developers when they wrote their first line of code?"
   ]
  },
  {
   "cell_type": "code",
   "execution_count": 5,
   "metadata": {
    "execution": {
     "iopub.execute_input": "2021-03-14T19:52:56.235457Z",
     "iopub.status.busy": "2021-03-14T19:52:56.234754Z",
     "iopub.status.idle": "2021-03-14T19:52:56.241838Z",
     "shell.execute_reply": "2021-03-14T19:52:56.241207Z"
    },
    "papermill": {
     "duration": 0.054474,
     "end_time": "2021-03-14T19:52:56.242007",
     "exception": false,
     "start_time": "2021-03-14T19:52:56.187533",
     "status": "completed"
    },
    "tags": []
   },
   "outputs": [
    {
     "data": {
      "text/plain": [
       "array(['10', '17', '22', '16', '14', '15', '11', '20', '13', '18', '12',\n",
       "       '19', '21', '8', '35', '6', '9', '29', '7', '5', '23', '30', nan,\n",
       "       '27', '24', 'Younger than 5 years', '33', '25', '26', '39', '36',\n",
       "       '38', '28', '31', 'Older than 85', '32', '37', '50', '65', '42',\n",
       "       '34', '40', '67', '43', '44', '60', '46', '45', '49', '51', '41',\n",
       "       '55', '83', '48', '53', '54', '47', '56', '79', '61', '68', '77',\n",
       "       '66', '52', '80', '62', '84', '57', '58', '63'], dtype=object)"
      ]
     },
     "execution_count": 5,
     "metadata": {},
     "output_type": "execute_result"
    }
   ],
   "source": [
    "df.Age1stCode.unique()"
   ]
  },
  {
   "cell_type": "markdown",
   "metadata": {
    "papermill": {
     "duration": 0.028645,
     "end_time": "2021-03-14T19:52:56.299414",
     "exception": false,
     "start_time": "2021-03-14T19:52:56.270769",
     "status": "completed"
    },
    "tags": []
   },
   "source": [
    "As this column contains string values, a simple .mean() method will raise an error. So, 1st we will convert dtype from object to float while ignoring the string values with pd.to_numeric ( https://pandas.pydata.org/pandas-docs/stable/reference/api/pandas.to_numeric.html )"
   ]
  },
  {
   "cell_type": "code",
   "execution_count": 6,
   "metadata": {
    "execution": {
     "iopub.execute_input": "2021-03-14T19:52:56.439823Z",
     "iopub.status.busy": "2021-03-14T19:52:56.438568Z",
     "iopub.status.idle": "2021-03-14T19:52:56.569102Z",
     "shell.execute_reply": "2021-03-14T19:52:56.568322Z"
    },
    "papermill": {
     "duration": 0.241028,
     "end_time": "2021-03-14T19:52:56.569278",
     "exception": false,
     "start_time": "2021-03-14T19:52:56.328250",
     "status": "completed"
    },
    "tags": []
   },
   "outputs": [],
   "source": [
    "df.Age1stCode = pd.to_numeric(df.Age1stCode, errors = 'coerce')\n",
    "\n",
    "average_age = df.Age1stCode.mean()"
   ]
  },
  {
   "cell_type": "code",
   "execution_count": 7,
   "metadata": {
    "execution": {
     "iopub.execute_input": "2021-03-14T19:52:56.634346Z",
     "iopub.status.busy": "2021-03-14T19:52:56.633334Z",
     "iopub.status.idle": "2021-03-14T19:52:56.637935Z",
     "shell.execute_reply": "2021-03-14T19:52:56.637330Z"
    },
    "papermill": {
     "duration": 0.039417,
     "end_time": "2021-03-14T19:52:56.638116",
     "exception": false,
     "start_time": "2021-03-14T19:52:56.598699",
     "status": "completed"
    },
    "tags": []
   },
   "outputs": [
    {
     "name": "stdout",
     "output_type": "stream",
     "text": [
      "The average age of people when they write their first code is: 15.\n"
     ]
    }
   ],
   "source": [
    "print(f\"The average age of people when they write their first code is: {round(average_age)}.\")"
   ]
  },
  {
   "cell_type": "markdown",
   "metadata": {
    "papermill": {
     "duration": 0.029099,
     "end_time": "2021-03-14T19:52:56.696550",
     "exception": false,
     "start_time": "2021-03-14T19:52:56.667451",
     "status": "completed"
    },
    "tags": []
   },
   "source": [
    "## Q2.Deduce the percentage of developers who know python in each country."
   ]
  },
  {
   "cell_type": "code",
   "execution_count": 8,
   "metadata": {
    "execution": {
     "iopub.execute_input": "2021-03-14T19:52:56.765053Z",
     "iopub.status.busy": "2021-03-14T19:52:56.764312Z",
     "iopub.status.idle": "2021-03-14T19:52:56.769707Z",
     "shell.execute_reply": "2021-03-14T19:52:56.769125Z"
    },
    "papermill": {
     "duration": 0.043876,
     "end_time": "2021-03-14T19:52:56.769886",
     "exception": false,
     "start_time": "2021-03-14T19:52:56.726010",
     "status": "completed"
    },
    "tags": []
   },
   "outputs": [
    {
     "data": {
      "text/plain": [
       "0                          HTML/CSS;Java;JavaScript;Python\n",
       "1                                      C++;HTML/CSS;Python\n",
       "2                                                 HTML/CSS\n",
       "3                                      C;C++;C#;Python;SQL\n",
       "4              C++;HTML/CSS;Java;JavaScript;Python;SQL;VBA\n",
       "                               ...                        \n",
       "88878                        HTML/CSS;JavaScript;Other(s):\n",
       "88879                                                  NaN\n",
       "88880                                                  NaN\n",
       "88881                                                  NaN\n",
       "88882    Bash/Shell/PowerShell;HTML/CSS;Java;JavaScript...\n",
       "Name: LanguageWorkedWith, Length: 88883, dtype: object"
      ]
     },
     "execution_count": 8,
     "metadata": {},
     "output_type": "execute_result"
    }
   ],
   "source": [
    "df.LanguageWorkedWith"
   ]
  },
  {
   "cell_type": "code",
   "execution_count": 9,
   "metadata": {
    "execution": {
     "iopub.execute_input": "2021-03-14T19:52:56.837412Z",
     "iopub.status.busy": "2021-03-14T19:52:56.836717Z",
     "iopub.status.idle": "2021-03-14T19:52:56.840810Z",
     "shell.execute_reply": "2021-03-14T19:52:56.840227Z"
    },
    "papermill": {
     "duration": 0.041165,
     "end_time": "2021-03-14T19:52:56.840995",
     "exception": false,
     "start_time": "2021-03-14T19:52:56.799830",
     "status": "completed"
    },
    "tags": []
   },
   "outputs": [],
   "source": [
    "def python(n):\n",
    "    try:\n",
    "        if 'Python' in n:\n",
    "            return 1\n",
    "        return 0\n",
    "    except:\n",
    "        return 0"
   ]
  },
  {
   "cell_type": "code",
   "execution_count": 10,
   "metadata": {
    "execution": {
     "iopub.execute_input": "2021-03-14T19:52:56.926437Z",
     "iopub.status.busy": "2021-03-14T19:52:56.915849Z",
     "iopub.status.idle": "2021-03-14T19:52:56.980386Z",
     "shell.execute_reply": "2021-03-14T19:52:56.979769Z"
    },
    "papermill": {
     "duration": 0.109234,
     "end_time": "2021-03-14T19:52:56.980572",
     "exception": false,
     "start_time": "2021-03-14T19:52:56.871338",
     "status": "completed"
    },
    "tags": []
   },
   "outputs": [],
   "source": [
    "df['%_knows_python'] = list(map(python,df.LanguageWorkedWith))"
   ]
  },
  {
   "cell_type": "code",
   "execution_count": 11,
   "metadata": {
    "execution": {
     "iopub.execute_input": "2021-03-14T19:52:57.050117Z",
     "iopub.status.busy": "2021-03-14T19:52:57.049363Z",
     "iopub.status.idle": "2021-03-14T19:52:57.092630Z",
     "shell.execute_reply": "2021-03-14T19:52:57.093115Z"
    },
    "papermill": {
     "duration": 0.081419,
     "end_time": "2021-03-14T19:52:57.093332",
     "exception": false,
     "start_time": "2021-03-14T19:52:57.011913",
     "status": "completed"
    },
    "tags": []
   },
   "outputs": [
    {
     "data": {
      "text/plain": [
       "Country\n",
       "Afghanistan                             18.181818\n",
       "Albania                                 26.744186\n",
       "Algeria                                 29.850746\n",
       "Andorra                                  0.000000\n",
       "Angola                                  40.000000\n",
       "                                          ...    \n",
       "Venezuela, Bolivarian Republic of...    31.818182\n",
       "Viet Nam                                33.766234\n",
       "Yemen                                   15.789474\n",
       "Zambia                                  33.333333\n",
       "Zimbabwe                                35.897436\n",
       "Name: %_knows_python, Length: 179, dtype: float64"
      ]
     },
     "execution_count": 11,
     "metadata": {},
     "output_type": "execute_result"
    }
   ],
   "source": [
    "df.groupby('Country')['%_knows_python'].mean()*100"
   ]
  },
  {
   "cell_type": "markdown",
   "metadata": {
    "papermill": {
     "duration": 0.030703,
     "end_time": "2021-03-14T19:52:57.156408",
     "exception": false,
     "start_time": "2021-03-14T19:52:57.125705",
     "status": "completed"
    },
    "tags": []
   },
   "source": [
    "## Q3.Generate a report for the average salary of developer based on continent.\n"
   ]
  },
  {
   "cell_type": "code",
   "execution_count": 12,
   "metadata": {
    "execution": {
     "iopub.execute_input": "2021-03-14T19:52:57.223082Z",
     "iopub.status.busy": "2021-03-14T19:52:57.222320Z",
     "iopub.status.idle": "2021-03-14T19:52:57.275313Z",
     "shell.execute_reply": "2021-03-14T19:52:57.274671Z"
    },
    "papermill": {
     "duration": 0.087898,
     "end_time": "2021-03-14T19:52:57.275498",
     "exception": false,
     "start_time": "2021-03-14T19:52:57.187600",
     "status": "completed"
    },
    "tags": []
   },
   "outputs": [],
   "source": [
    "df.Country = df.Country.replace({\"Congo, Republic of the...\":\"Congo\",\n",
    "                                                             \"Hong Kong (S.A.R.)\":\"Hong Kong\",\n",
    "                                                             \"Libyan Arab Jamahiriya\":\"Libya\",\n",
    "                                                             \"Other Country (Not Listed Above)\":\"Others\",\n",
    "                                                             \"Republic of Korea\":\"South Korea\",\n",
    "                                                             \"The former Yugoslav Republic of Macedonia\":\"North Macedonia\",\n",
    "                                                             \"Timor-Leste\":\"India\",#As Timor-Leste is an Asian country but not showing in pycountry_convert module\n",
    "                                                             \"Venezuela, Bolivarian Republic of...\":\"Venezuela\"})"
   ]
  },
  {
   "cell_type": "code",
   "execution_count": 13,
   "metadata": {
    "execution": {
     "iopub.execute_input": "2021-03-14T19:52:57.360270Z",
     "iopub.status.busy": "2021-03-14T19:52:57.359497Z",
     "iopub.status.idle": "2021-03-14T19:52:57.367136Z",
     "shell.execute_reply": "2021-03-14T19:52:57.366375Z"
    },
    "papermill": {
     "duration": 0.06069,
     "end_time": "2021-03-14T19:52:57.367306",
     "exception": false,
     "start_time": "2021-03-14T19:52:57.306616",
     "status": "completed"
    },
    "tags": []
   },
   "outputs": [],
   "source": [
    "comp_per_country = df.groupby('Country')['ConvertedComp'].mean().to_frame().reset_index()"
   ]
  },
  {
   "cell_type": "code",
   "execution_count": 14,
   "metadata": {
    "execution": {
     "iopub.execute_input": "2021-03-14T19:52:57.443632Z",
     "iopub.status.busy": "2021-03-14T19:52:57.442857Z",
     "iopub.status.idle": "2021-03-14T19:52:57.460283Z",
     "shell.execute_reply": "2021-03-14T19:52:57.459645Z"
    },
    "papermill": {
     "duration": 0.060436,
     "end_time": "2021-03-14T19:52:57.460452",
     "exception": false,
     "start_time": "2021-03-14T19:52:57.400016",
     "status": "completed"
    },
    "tags": []
   },
   "outputs": [
    {
     "data": {
      "text/html": [
       "<div>\n",
       "<style scoped>\n",
       "    .dataframe tbody tr th:only-of-type {\n",
       "        vertical-align: middle;\n",
       "    }\n",
       "\n",
       "    .dataframe tbody tr th {\n",
       "        vertical-align: top;\n",
       "    }\n",
       "\n",
       "    .dataframe thead th {\n",
       "        text-align: right;\n",
       "    }\n",
       "</style>\n",
       "<table border=\"1\" class=\"dataframe\">\n",
       "  <thead>\n",
       "    <tr style=\"text-align: right;\">\n",
       "      <th></th>\n",
       "      <th>Country</th>\n",
       "      <th>ConvertedComp</th>\n",
       "    </tr>\n",
       "  </thead>\n",
       "  <tbody>\n",
       "    <tr>\n",
       "      <th>0</th>\n",
       "      <td>Afghanistan</td>\n",
       "      <td>101953.333333</td>\n",
       "    </tr>\n",
       "    <tr>\n",
       "      <th>1</th>\n",
       "      <td>Albania</td>\n",
       "      <td>21833.700000</td>\n",
       "    </tr>\n",
       "    <tr>\n",
       "      <th>2</th>\n",
       "      <td>Algeria</td>\n",
       "      <td>34924.047619</td>\n",
       "    </tr>\n",
       "    <tr>\n",
       "      <th>3</th>\n",
       "      <td>Andorra</td>\n",
       "      <td>160931.000000</td>\n",
       "    </tr>\n",
       "    <tr>\n",
       "      <th>4</th>\n",
       "      <td>Angola</td>\n",
       "      <td>7764.000000</td>\n",
       "    </tr>\n",
       "    <tr>\n",
       "      <th>...</th>\n",
       "      <td>...</td>\n",
       "      <td>...</td>\n",
       "    </tr>\n",
       "    <tr>\n",
       "      <th>172</th>\n",
       "      <td>Venezuela</td>\n",
       "      <td>14581.627907</td>\n",
       "    </tr>\n",
       "    <tr>\n",
       "      <th>173</th>\n",
       "      <td>Viet Nam</td>\n",
       "      <td>17233.436782</td>\n",
       "    </tr>\n",
       "    <tr>\n",
       "      <th>174</th>\n",
       "      <td>Yemen</td>\n",
       "      <td>16909.166667</td>\n",
       "    </tr>\n",
       "    <tr>\n",
       "      <th>175</th>\n",
       "      <td>Zambia</td>\n",
       "      <td>10075.375000</td>\n",
       "    </tr>\n",
       "    <tr>\n",
       "      <th>176</th>\n",
       "      <td>Zimbabwe</td>\n",
       "      <td>34046.666667</td>\n",
       "    </tr>\n",
       "  </tbody>\n",
       "</table>\n",
       "<p>177 rows × 2 columns</p>\n",
       "</div>"
      ],
      "text/plain": [
       "         Country  ConvertedComp\n",
       "0    Afghanistan  101953.333333\n",
       "1        Albania   21833.700000\n",
       "2        Algeria   34924.047619\n",
       "3        Andorra  160931.000000\n",
       "4         Angola    7764.000000\n",
       "..           ...            ...\n",
       "172    Venezuela   14581.627907\n",
       "173     Viet Nam   17233.436782\n",
       "174        Yemen   16909.166667\n",
       "175       Zambia   10075.375000\n",
       "176     Zimbabwe   34046.666667\n",
       "\n",
       "[177 rows x 2 columns]"
      ]
     },
     "execution_count": 14,
     "metadata": {},
     "output_type": "execute_result"
    }
   ],
   "source": [
    "comp_per_country"
   ]
  },
  {
   "cell_type": "code",
   "execution_count": 15,
   "metadata": {
    "execution": {
     "iopub.execute_input": "2021-03-14T19:52:57.531430Z",
     "iopub.status.busy": "2021-03-14T19:52:57.530734Z",
     "iopub.status.idle": "2021-03-14T19:52:57.534433Z",
     "shell.execute_reply": "2021-03-14T19:52:57.533736Z"
    },
    "papermill": {
     "duration": 0.042333,
     "end_time": "2021-03-14T19:52:57.534740",
     "exception": false,
     "start_time": "2021-03-14T19:52:57.492407",
     "status": "completed"
    },
    "tags": []
   },
   "outputs": [],
   "source": [
    "def get_continent(col):\n",
    "    try:\n",
    "        cn_a2_code =  country_name_to_country_alpha2(col)\n",
    "    except:\n",
    "        cn_a2_code = 'Others' \n",
    "    try:\n",
    "        cn_continent = country_alpha2_to_continent_code(cn_a2_code)\n",
    "    except:\n",
    "        cn_continent = 'Others' \n",
    "    return (cn_continent)"
   ]
  },
  {
   "cell_type": "code",
   "execution_count": 16,
   "metadata": {
    "execution": {
     "iopub.execute_input": "2021-03-14T19:52:57.605680Z",
     "iopub.status.busy": "2021-03-14T19:52:57.604983Z",
     "iopub.status.idle": "2021-03-14T19:52:57.623990Z",
     "shell.execute_reply": "2021-03-14T19:52:57.623345Z"
    },
    "papermill": {
     "duration": 0.05736,
     "end_time": "2021-03-14T19:52:57.624169",
     "exception": false,
     "start_time": "2021-03-14T19:52:57.566809",
     "status": "completed"
    },
    "tags": []
   },
   "outputs": [],
   "source": [
    "comp_per_country['Continent'] = list(map(get_continent,comp_per_country.Country))"
   ]
  },
  {
   "cell_type": "markdown",
   "metadata": {
    "papermill": {
     "duration": 0.031991,
     "end_time": "2021-03-14T19:52:57.688354",
     "exception": false,
     "start_time": "2021-03-14T19:52:57.656363",
     "status": "completed"
    },
    "tags": []
   },
   "source": [
    "Average Compensation of a Developer per Continent:"
   ]
  },
  {
   "cell_type": "code",
   "execution_count": 17,
   "metadata": {
    "execution": {
     "iopub.execute_input": "2021-03-14T19:52:57.763880Z",
     "iopub.status.busy": "2021-03-14T19:52:57.762665Z",
     "iopub.status.idle": "2021-03-14T19:52:57.766870Z",
     "shell.execute_reply": "2021-03-14T19:52:57.767317Z"
    },
    "papermill": {
     "duration": 0.047274,
     "end_time": "2021-03-14T19:52:57.767554",
     "exception": false,
     "start_time": "2021-03-14T19:52:57.720280",
     "status": "completed"
    },
    "tags": []
   },
   "outputs": [
    {
     "data": {
      "text/plain": [
       "Continent\n",
       "AF         29188.687423\n",
       "AS         44648.579043\n",
       "EU         95948.496200\n",
       "NA         48141.173701\n",
       "OC        117917.473400\n",
       "Others     99339.803279\n",
       "SA         32751.810780\n",
       "Name: ConvertedComp, dtype: float64"
      ]
     },
     "execution_count": 17,
     "metadata": {},
     "output_type": "execute_result"
    }
   ],
   "source": [
    "comp_per_country.groupby('Continent')['ConvertedComp'].mean()"
   ]
  },
  {
   "cell_type": "markdown",
   "metadata": {
    "papermill": {
     "duration": 0.032253,
     "end_time": "2021-03-14T19:52:57.832349",
     "exception": false,
     "start_time": "2021-03-14T19:52:57.800096",
     "status": "completed"
    },
    "tags": []
   },
   "source": [
    "## Q4.Based on this survey, what will be the most desired programming language for the year 2020?"
   ]
  },
  {
   "cell_type": "code",
   "execution_count": 18,
   "metadata": {
    "execution": {
     "iopub.execute_input": "2021-03-14T19:52:57.906679Z",
     "iopub.status.busy": "2021-03-14T19:52:57.905675Z",
     "iopub.status.idle": "2021-03-14T19:52:57.909908Z",
     "shell.execute_reply": "2021-03-14T19:52:57.909351Z"
    },
    "papermill": {
     "duration": 0.045143,
     "end_time": "2021-03-14T19:52:57.910084",
     "exception": false,
     "start_time": "2021-03-14T19:52:57.864941",
     "status": "completed"
    },
    "tags": []
   },
   "outputs": [
    {
     "data": {
      "text/plain": [
       "0          C;C++;C#;Go;HTML/CSS;Java;JavaScript;Python;SQL\n",
       "1                              C++;HTML/CSS;JavaScript;SQL\n",
       "2                                          Elixir;HTML/CSS\n",
       "3                                      C;C#;JavaScript;SQL\n",
       "4                 HTML/CSS;Java;JavaScript;SQL;WebAssembly\n",
       "                               ...                        \n",
       "88878    C++;HTML/CSS;JavaScript;SQL;WebAssembly;Other(s):\n",
       "88879                                                  NaN\n",
       "88880                                                  NaN\n",
       "88881                                                  NaN\n",
       "88882         C;C++;C#;HTML/CSS;Java;Objective-C;SQL;Swift\n",
       "Name: LanguageDesireNextYear, Length: 88883, dtype: object"
      ]
     },
     "execution_count": 18,
     "metadata": {},
     "output_type": "execute_result"
    }
   ],
   "source": [
    "df.LanguageDesireNextYear"
   ]
  },
  {
   "cell_type": "code",
   "execution_count": 19,
   "metadata": {
    "execution": {
     "iopub.execute_input": "2021-03-14T19:52:57.986896Z",
     "iopub.status.busy": "2021-03-14T19:52:57.986135Z",
     "iopub.status.idle": "2021-03-14T19:52:58.210761Z",
     "shell.execute_reply": "2021-03-14T19:52:58.211302Z"
    },
    "papermill": {
     "duration": 0.268418,
     "end_time": "2021-03-14T19:52:58.211585",
     "exception": false,
     "start_time": "2021-03-14T19:52:57.943167",
     "status": "completed"
    },
    "tags": []
   },
   "outputs": [],
   "source": [
    "counts = {}\n",
    "for i in df['LanguageDesireNextYear']:\n",
    "    to_string = str(i)\n",
    "    splited = to_string.split(';')\n",
    "    for j in splited:\n",
    "        if j in counts:\n",
    "            counts[j] += 1\n",
    "        else:\n",
    "            counts[j] = 1"
   ]
  },
  {
   "cell_type": "code",
   "execution_count": 20,
   "metadata": {
    "execution": {
     "iopub.execute_input": "2021-03-14T19:52:58.282382Z",
     "iopub.status.busy": "2021-03-14T19:52:58.281703Z",
     "iopub.status.idle": "2021-03-14T19:52:58.287025Z",
     "shell.execute_reply": "2021-03-14T19:52:58.287598Z"
    },
    "papermill": {
     "duration": 0.042572,
     "end_time": "2021-03-14T19:52:58.287810",
     "exception": false,
     "start_time": "2021-03-14T19:52:58.245238",
     "status": "completed"
    },
    "tags": []
   },
   "outputs": [],
   "source": [
    "Language_desired_2020 = pd.DataFrame.from_dict(counts,orient='index',columns=['No. of Users'])"
   ]
  },
  {
   "cell_type": "code",
   "execution_count": 21,
   "metadata": {
    "execution": {
     "iopub.execute_input": "2021-03-14T19:52:58.358426Z",
     "iopub.status.busy": "2021-03-14T19:52:58.357707Z",
     "iopub.status.idle": "2021-03-14T19:52:58.366533Z",
     "shell.execute_reply": "2021-03-14T19:52:58.365819Z"
    },
    "papermill": {
     "duration": 0.045563,
     "end_time": "2021-03-14T19:52:58.366703",
     "exception": false,
     "start_time": "2021-03-14T19:52:58.321140",
     "status": "completed"
    },
    "tags": []
   },
   "outputs": [
    {
     "name": "stdout",
     "output_type": "stream",
     "text": [
      "The most desired programming language for the year 2020 is: JavaScript.\n"
     ]
    }
   ],
   "source": [
    "print(f\"The most desired programming language for the year 2020 is: {Language_desired_2020.sort_values('No. of Users',ascending=False).reset_index().iloc[0,0]}.\")"
   ]
  },
  {
   "cell_type": "markdown",
   "metadata": {
    "papermill": {
     "duration": 0.033852,
     "end_time": "2021-03-14T19:52:58.435732",
     "exception": false,
     "start_time": "2021-03-14T19:52:58.401880",
     "status": "completed"
    },
    "tags": []
   },
   "source": [
    "## Q5.What is the distribution of people who code as a hobby based on gender and continent?"
   ]
  },
  {
   "cell_type": "code",
   "execution_count": 22,
   "metadata": {
    "execution": {
     "iopub.execute_input": "2021-03-14T19:52:58.539314Z",
     "iopub.status.busy": "2021-03-14T19:52:58.528835Z",
     "iopub.status.idle": "2021-03-14T19:52:58.669938Z",
     "shell.execute_reply": "2021-03-14T19:52:58.668364Z"
    },
    "papermill": {
     "duration": 0.200427,
     "end_time": "2021-03-14T19:52:58.670140",
     "exception": false,
     "start_time": "2021-03-14T19:52:58.469713",
     "status": "completed"
    },
    "tags": []
   },
   "outputs": [],
   "source": [
    "df['Continent'] = list(map(get_continent,df.Country))"
   ]
  },
  {
   "cell_type": "code",
   "execution_count": 23,
   "metadata": {
    "execution": {
     "iopub.execute_input": "2021-03-14T19:52:58.760110Z",
     "iopub.status.busy": "2021-03-14T19:52:58.753963Z",
     "iopub.status.idle": "2021-03-14T19:52:58.896732Z",
     "shell.execute_reply": "2021-03-14T19:52:58.896140Z"
    },
    "papermill": {
     "duration": 0.192827,
     "end_time": "2021-03-14T19:52:58.896907",
     "exception": false,
     "start_time": "2021-03-14T19:52:58.704080",
     "status": "completed"
    },
    "tags": []
   },
   "outputs": [],
   "source": [
    "df.Hobbyist = df.Hobbyist.replace({\"Yes\": 1, \"No\": 0})"
   ]
  },
  {
   "cell_type": "code",
   "execution_count": 24,
   "metadata": {
    "execution": {
     "iopub.execute_input": "2021-03-14T19:52:58.971061Z",
     "iopub.status.busy": "2021-03-14T19:52:58.970305Z",
     "iopub.status.idle": "2021-03-14T19:52:58.973705Z",
     "shell.execute_reply": "2021-03-14T19:52:58.973066Z"
    },
    "papermill": {
     "duration": 0.043142,
     "end_time": "2021-03-14T19:52:58.973959",
     "exception": false,
     "start_time": "2021-03-14T19:52:58.930817",
     "status": "completed"
    },
    "tags": []
   },
   "outputs": [],
   "source": [
    "def sex(string):\n",
    "    if string == 'Man':\n",
    "        return 'Man'\n",
    "    elif string == 'Woman':\n",
    "        return 'Woman'\n",
    "    else:\n",
    "        return \"Others\""
   ]
  },
  {
   "cell_type": "code",
   "execution_count": 25,
   "metadata": {
    "execution": {
     "iopub.execute_input": "2021-03-14T19:52:59.065314Z",
     "iopub.status.busy": "2021-03-14T19:52:59.054684Z",
     "iopub.status.idle": "2021-03-14T19:52:59.086894Z",
     "shell.execute_reply": "2021-03-14T19:52:59.087382Z"
    },
    "papermill": {
     "duration": 0.077632,
     "end_time": "2021-03-14T19:52:59.087618",
     "exception": false,
     "start_time": "2021-03-14T19:52:59.009986",
     "status": "completed"
    },
    "tags": []
   },
   "outputs": [],
   "source": [
    "df.Gender = list(map(sex,df.Gender))"
   ]
  },
  {
   "cell_type": "markdown",
   "metadata": {
    "papermill": {
     "duration": 0.03378,
     "end_time": "2021-03-14T19:52:59.155657",
     "exception": false,
     "start_time": "2021-03-14T19:52:59.121877",
     "status": "completed"
    },
    "tags": []
   },
   "source": [
    "Hobbyist based on Gender and Continent."
   ]
  },
  {
   "cell_type": "code",
   "execution_count": 26,
   "metadata": {
    "execution": {
     "iopub.execute_input": "2021-03-14T19:52:59.230346Z",
     "iopub.status.busy": "2021-03-14T19:52:59.228804Z",
     "iopub.status.idle": "2021-03-14T19:52:59.260395Z",
     "shell.execute_reply": "2021-03-14T19:52:59.259692Z"
    },
    "papermill": {
     "duration": 0.070561,
     "end_time": "2021-03-14T19:52:59.260599",
     "exception": false,
     "start_time": "2021-03-14T19:52:59.190038",
     "status": "completed"
    },
    "tags": []
   },
   "outputs": [
    {
     "data": {
      "text/plain": [
       "Continent  Gender\n",
       "AF         Man        2421\n",
       "           Others      134\n",
       "           Woman       194\n",
       "AS         Man       16039\n",
       "           Others     1348\n",
       "           Woman      1186\n",
       "EU         Man       32283\n",
       "           Others     1396\n",
       "           Woman      2164\n",
       "NA         Man       21662\n",
       "           Others     1368\n",
       "           Woman      2464\n",
       "OC         Man        2160\n",
       "           Others      130\n",
       "           Woman       144\n",
       "Others     Man         102\n",
       "           Others      155\n",
       "           Woman        11\n",
       "SA         Man        3252\n",
       "           Others       89\n",
       "           Woman       181\n",
       "Name: Hobbyist, dtype: int64"
      ]
     },
     "execution_count": 26,
     "metadata": {},
     "output_type": "execute_result"
    }
   ],
   "source": [
    "df.groupby(['Continent','Gender'])['Hobbyist'].count()"
   ]
  },
  {
   "cell_type": "markdown",
   "metadata": {
    "papermill": {
     "duration": 0.034636,
     "end_time": "2021-03-14T19:52:59.331155",
     "exception": false,
     "start_time": "2021-03-14T19:52:59.296519",
     "status": "completed"
    },
    "tags": []
   },
   "source": [
    "## Q6.Generate the report for job and career satisfaction of developer based on their gender and continent?"
   ]
  },
  {
   "cell_type": "markdown",
   "metadata": {
    "papermill": {
     "duration": 0.034513,
     "end_time": "2021-03-14T19:52:59.401638",
     "exception": false,
     "start_time": "2021-03-14T19:52:59.367125",
     "status": "completed"
    },
    "tags": []
   },
   "source": [
    "Job satisfaction based on gender and continent"
   ]
  },
  {
   "cell_type": "code",
   "execution_count": 27,
   "metadata": {
    "execution": {
     "iopub.execute_input": "2021-03-14T19:52:59.484304Z",
     "iopub.status.busy": "2021-03-14T19:52:59.483383Z",
     "iopub.status.idle": "2021-03-14T19:52:59.521005Z",
     "shell.execute_reply": "2021-03-14T19:52:59.520198Z"
    },
    "papermill": {
     "duration": 0.084903,
     "end_time": "2021-03-14T19:52:59.521185",
     "exception": false,
     "start_time": "2021-03-14T19:52:59.436282",
     "status": "completed"
    },
    "tags": []
   },
   "outputs": [
    {
     "data": {
      "text/plain": [
       "Continent  Gender  JobSat                            \n",
       "AF         Man     Neither satisfied nor dissatisfied    242\n",
       "                   Slightly dissatisfied                 259\n",
       "                   Slightly satisfied                    540\n",
       "                   Very dissatisfied                     137\n",
       "                   Very satisfied                        352\n",
       "                                                        ... \n",
       "SA         Woman   Neither satisfied nor dissatisfied     20\n",
       "                   Slightly dissatisfied                  21\n",
       "                   Slightly satisfied                     51\n",
       "                   Very dissatisfied                      11\n",
       "                   Very satisfied                         43\n",
       "Name: Respondent, Length: 104, dtype: int64"
      ]
     },
     "execution_count": 27,
     "metadata": {},
     "output_type": "execute_result"
    }
   ],
   "source": [
    "df.groupby(['Continent','Gender','JobSat'])['Respondent'].count()"
   ]
  },
  {
   "cell_type": "markdown",
   "metadata": {
    "papermill": {
     "duration": 0.034724,
     "end_time": "2021-03-14T19:52:59.591032",
     "exception": false,
     "start_time": "2021-03-14T19:52:59.556308",
     "status": "completed"
    },
    "tags": []
   },
   "source": [
    "Career satisfaction based on gender and continent"
   ]
  },
  {
   "cell_type": "code",
   "execution_count": 28,
   "metadata": {
    "execution": {
     "iopub.execute_input": "2021-03-14T19:52:59.676057Z",
     "iopub.status.busy": "2021-03-14T19:52:59.675247Z",
     "iopub.status.idle": "2021-03-14T19:52:59.714097Z",
     "shell.execute_reply": "2021-03-14T19:52:59.713513Z"
    },
    "papermill": {
     "duration": 0.086473,
     "end_time": "2021-03-14T19:52:59.714271",
     "exception": false,
     "start_time": "2021-03-14T19:52:59.627798",
     "status": "completed"
    },
    "tags": []
   },
   "outputs": [
    {
     "data": {
      "text/plain": [
       "Continent  Gender  CareerSat                         \n",
       "AF         Man     Neither satisfied nor dissatisfied    212\n",
       "                   Slightly dissatisfied                 184\n",
       "                   Slightly satisfied                    566\n",
       "                   Very dissatisfied                     126\n",
       "                   Very satisfied                        583\n",
       "                                                        ... \n",
       "SA         Woman   Neither satisfied nor dissatisfied     13\n",
       "                   Slightly dissatisfied                  25\n",
       "                   Slightly satisfied                     56\n",
       "                   Very dissatisfied                       7\n",
       "                   Very satisfied                         53\n",
       "Name: Respondent, Length: 104, dtype: int64"
      ]
     },
     "execution_count": 28,
     "metadata": {},
     "output_type": "execute_result"
    }
   ],
   "source": [
    "df.groupby(['Continent','Gender','CareerSat'])['Respondent'].count()"
   ]
  }
 ],
 "metadata": {
  "kernelspec": {
   "display_name": "Python 3",
   "language": "python",
   "name": "python3"
  },
  "language_info": {
   "codemirror_mode": {
    "name": "ipython",
    "version": 3
   },
   "file_extension": ".py",
   "mimetype": "text/x-python",
   "name": "python",
   "nbconvert_exporter": "python",
   "pygments_lexer": "ipython3",
   "version": "3.7.9"
  },
  "papermill": {
   "default_parameters": {},
   "duration": 29.695021,
   "end_time": "2021-03-14T19:53:00.662825",
   "environment_variables": {},
   "exception": null,
   "input_path": "__notebook__.ipynb",
   "output_path": "__notebook__.ipynb",
   "parameters": {},
   "start_time": "2021-03-14T19:52:30.967804",
   "version": "2.2.2"
  }
 },
 "nbformat": 4,
 "nbformat_minor": 4
}
